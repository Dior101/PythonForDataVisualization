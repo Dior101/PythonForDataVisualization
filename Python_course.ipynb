{
 "cells": [
  {
   "cell_type": "code",
   "execution_count": 3,
   "metadata": {},
   "outputs": [
    {
     "name": "stdout",
     "output_type": "stream",
     "text": [
      "Totally, there are 71 candidates.\n",
      "Apperantly, only 48 of them will remain after Week 4.\n",
      "So the number of dropouts by Week 4 could be 23 or more\n",
      "Top 10 most active participants will win prizes.\n",
      "Each project group will consist of 3 participants.\n",
      "There will be approximately 16.0 on this course.\n",
      "The maximum possible score is 600 on this course.\n"
     ]
    }
   ],
   "source": [
    "enorolled_members = 71\n",
    "available_seats = 48\n",
    "disqualifications = 23\n",
    "prize_winners = 10\n",
    "group_project_size = 3 \n",
    "project_groups = available_seats/group_project_size\n",
    "course_sessions = 12\n",
    "tokens_per_session = 50\n",
    "maximum_score_possible = sessions * tokens_per_session\n",
    "\n",
    "print(\"Totally, there are\", candidates, \"candidates.\" )\n",
    "print(\"Apperantly, only\", available_seats, \"of them will remain after fourth Week.\")\n",
    "print(\"So the number of disqualifications by fourth Week could be\", disqualifications, \"or even more.\")\n",
    "print(\"Top\", prize_winners, \"most active participants will win special prizes.\")\n",
    "print(\"Each project group will consist of\", group_project_size, \"participants.\")\n",
    "print(\"There will be approximately\",project_groups, \"on this course.\")\n",
    "print(\"The maximum possible score is\", maximum_score_possible, \"on this course.\")"
   ]
  },
  {
   "cell_type": "code",
   "execution_count": 1,
   "metadata": {},
   "outputs": [
    {
     "name": "stdout",
     "output_type": "stream",
     "text": [
      "25 20\n"
     ]
    }
   ],
   "source": [
    "print(25,20)"
   ]
  },
  {
   "cell_type": "code",
   "execution_count": 4,
   "metadata": {},
   "outputs": [
    {
     "name": "stdout",
     "output_type": "stream",
     "text": [
      "I have made my day best of it 20\n"
     ]
    }
   ],
   "source": [
    "print(\"I have made my day best of it\", 20)"
   ]
  },
  {
   "cell_type": "code",
   "execution_count": 5,
   "metadata": {},
   "outputs": [
    {
     "name": "stdout",
     "output_type": "stream",
     "text": [
      "Be mindfull, watch your decisions Enjoy your life\n"
     ]
    }
   ],
   "source": [
    "print(\"Be mindfull, watch your decisions\", \"Enjoy your life\")"
   ]
  },
  {
   "cell_type": "code",
   "execution_count": 10,
   "metadata": {},
   "outputs": [
    {
     "name": "stdout",
     "output_type": "stream",
     "text": [
      "Compute the solution =  10\n"
     ]
    }
   ],
   "source": [
    "print(\"Compute the solution = \", 20//2)"
   ]
  },
  {
   "cell_type": "code",
   "execution_count": null,
   "metadata": {},
   "outputs": [],
   "source": []
  }
 ],
 "metadata": {
  "kernelspec": {
   "display_name": "Python 3",
   "language": "python",
   "name": "python3"
  },
  "language_info": {
   "codemirror_mode": {
    "name": "ipython",
    "version": 3
   },
   "file_extension": ".py",
   "mimetype": "text/x-python",
   "name": "python",
   "nbconvert_exporter": "python",
   "pygments_lexer": "ipython3",
   "version": "3.8.5"
  }
 },
 "nbformat": 4,
 "nbformat_minor": 4
}
